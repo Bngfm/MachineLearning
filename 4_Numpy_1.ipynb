{
 "cells": [
  {
   "cell_type": "markdown",
   "id": "developing-commercial",
   "metadata": {},
   "source": [
    "# **Numpy**"
   ]
  },
  {
   "cell_type": "code",
   "execution_count": 1,
   "id": "adjacent-travel",
   "metadata": {},
   "outputs": [],
   "source": [
    "import numpy as np"
   ]
  },
  {
   "cell_type": "code",
   "execution_count": 2,
   "id": "indian-kidney",
   "metadata": {},
   "outputs": [
    {
     "data": {
      "text/plain": [
       "array([1, 2, 3, 4])"
      ]
     },
     "execution_count": 2,
     "metadata": {},
     "output_type": "execute_result"
    }
   ],
   "source": [
    "t1 = np.array([1,2,3,4])\n",
    "t1"
   ]
  },
  {
   "cell_type": "code",
   "execution_count": 3,
   "id": "fifteen-carnival",
   "metadata": {},
   "outputs": [
    {
     "data": {
      "text/plain": [
       "(4,)"
      ]
     },
     "execution_count": 3,
     "metadata": {},
     "output_type": "execute_result"
    }
   ],
   "source": [
    "# nbr lines and nbr Columns\n",
    "t1.shape"
   ]
  },
  {
   "cell_type": "code",
   "execution_count": 4,
   "id": "excellent-portsmouth",
   "metadata": {},
   "outputs": [
    {
     "data": {
      "text/plain": [
       "1"
      ]
     },
     "execution_count": 4,
     "metadata": {},
     "output_type": "execute_result"
    }
   ],
   "source": [
    "# dimension\n",
    "t1.ndim"
   ]
  },
  {
   "cell_type": "code",
   "execution_count": 5,
   "id": "detected-inclusion",
   "metadata": {},
   "outputs": [
    {
     "data": {
      "text/plain": [
       "4"
      ]
     },
     "execution_count": 5,
     "metadata": {},
     "output_type": "execute_result"
    }
   ],
   "source": [
    "# size\n",
    "t1.size"
   ]
  },
  {
   "cell_type": "markdown",
   "id": "wanted-windsor",
   "metadata": {},
   "source": [
    "### Zeros"
   ]
  },
  {
   "cell_type": "code",
   "execution_count": 6,
   "id": "industrial-fourth",
   "metadata": {},
   "outputs": [
    {
     "data": {
      "text/plain": [
       "array([[0., 0., 0., 0., 0.],\n",
       "       [0., 0., 0., 0., 0.],\n",
       "       [0., 0., 0., 0., 0.]])"
      ]
     },
     "execution_count": 6,
     "metadata": {},
     "output_type": "execute_result"
    }
   ],
   "source": [
    "z = np.zeros((3,5))\n",
    "z"
   ]
  },
  {
   "cell_type": "code",
   "execution_count": 7,
   "id": "catholic-connecticut",
   "metadata": {},
   "outputs": [
    {
     "data": {
      "text/plain": [
       "2"
      ]
     },
     "execution_count": 7,
     "metadata": {},
     "output_type": "execute_result"
    }
   ],
   "source": [
    "z.ndim"
   ]
  },
  {
   "cell_type": "code",
   "execution_count": 8,
   "id": "optional-patrol",
   "metadata": {},
   "outputs": [
    {
     "data": {
      "text/plain": [
       "(3, 5)"
      ]
     },
     "execution_count": 8,
     "metadata": {},
     "output_type": "execute_result"
    }
   ],
   "source": [
    "z.shape"
   ]
  },
  {
   "cell_type": "markdown",
   "id": "through-springfield",
   "metadata": {},
   "source": [
    "### Ones"
   ]
  },
  {
   "cell_type": "code",
   "execution_count": 9,
   "id": "harmful-decline",
   "metadata": {},
   "outputs": [
    {
     "data": {
      "text/plain": [
       "array([[1., 1., 1., 1., 1., 1., 1., 1., 1.],\n",
       "       [1., 1., 1., 1., 1., 1., 1., 1., 1.]])"
      ]
     },
     "execution_count": 9,
     "metadata": {},
     "output_type": "execute_result"
    }
   ],
   "source": [
    "o = np.ones((2,9))\n",
    "o"
   ]
  },
  {
   "cell_type": "code",
   "execution_count": 10,
   "id": "sudden-cargo",
   "metadata": {},
   "outputs": [
    {
     "data": {
      "text/plain": [
       "(2, 9)"
      ]
     },
     "execution_count": 10,
     "metadata": {},
     "output_type": "execute_result"
    }
   ],
   "source": [
    "o.shape"
   ]
  },
  {
   "cell_type": "code",
   "execution_count": 11,
   "id": "collectible-franklin",
   "metadata": {},
   "outputs": [
    {
     "data": {
      "text/plain": [
       "2"
      ]
     },
     "execution_count": 11,
     "metadata": {},
     "output_type": "execute_result"
    }
   ],
   "source": [
    "o.ndim"
   ]
  },
  {
   "cell_type": "markdown",
   "id": "explicit-creature",
   "metadata": {},
   "source": [
    "### Full"
   ]
  },
  {
   "cell_type": "code",
   "execution_count": 14,
   "id": "eligible-yukon",
   "metadata": {},
   "outputs": [
    {
     "data": {
      "text/plain": [
       "array([[8, 8, 8, 8, 8],\n",
       "       [8, 8, 8, 8, 8],\n",
       "       [8, 8, 8, 8, 8]])"
      ]
     },
     "execution_count": 14,
     "metadata": {},
     "output_type": "execute_result"
    }
   ],
   "source": [
    "f = np.full((3,5), 8)\n",
    "f"
   ]
  },
  {
   "cell_type": "code",
   "execution_count": 15,
   "id": "supposed-instruction",
   "metadata": {},
   "outputs": [
    {
     "data": {
      "text/plain": [
       "array([[ 1.76405235,  0.40015721,  0.97873798,  2.2408932 ,  1.86755799],\n",
       "       [-0.97727788,  0.95008842, -0.15135721, -0.10321885,  0.4105985 ],\n",
       "       [ 0.14404357,  1.45427351,  0.76103773,  0.12167502,  0.44386323]])"
      ]
     },
     "execution_count": 15,
     "metadata": {},
     "output_type": "execute_result"
    }
   ],
   "source": [
    "# garder les memes random\n",
    "np.random.seed(0)\n",
    "np.random.randn(3,5)"
   ]
  },
  {
   "cell_type": "markdown",
   "id": "considered-gravity",
   "metadata": {},
   "source": [
    "### Identity"
   ]
  },
  {
   "cell_type": "code",
   "execution_count": 16,
   "id": "violent-announcement",
   "metadata": {},
   "outputs": [
    {
     "data": {
      "text/plain": [
       "array([[1., 0., 0., 0., 0.],\n",
       "       [0., 1., 0., 0., 0.],\n",
       "       [0., 0., 1., 0., 0.],\n",
       "       [0., 0., 0., 1., 0.],\n",
       "       [0., 0., 0., 0., 1.]])"
      ]
     },
     "execution_count": 16,
     "metadata": {},
     "output_type": "execute_result"
    }
   ],
   "source": [
    "i = np.eye((5))\n",
    "i"
   ]
  },
  {
   "cell_type": "markdown",
   "id": "efficient-jesus",
   "metadata": {},
   "source": [
    "### Linspace"
   ]
  },
  {
   "cell_type": "code",
   "execution_count": 17,
   "id": "progressive-chuck",
   "metadata": {},
   "outputs": [
    {
     "data": {
      "text/plain": [
       "array([ 0. ,  2.5,  5. ,  7.5, 10. , 12.5, 15. ])"
      ]
     },
     "execution_count": 17,
     "metadata": {},
     "output_type": "execute_result"
    }
   ],
   "source": [
    "begin = 0\n",
    "end = 15\n",
    "quantity = 7\n",
    "np.linspace(begin, end, quantity)"
   ]
  },
  {
   "cell_type": "markdown",
   "id": "sustainable-portable",
   "metadata": {},
   "source": [
    "### Arange"
   ]
  },
  {
   "cell_type": "code",
   "execution_count": 18,
   "id": "taken-rental",
   "metadata": {},
   "outputs": [
    {
     "data": {
      "text/plain": [
       "array([0. , 0.5, 1. , 1.5, 2. , 2.5, 3. , 3.5, 4. , 4.5, 5. , 5.5, 6. ,\n",
       "       6.5, 7. , 7.5, 8. , 8.5, 9. , 9.5], dtype=float16)"
      ]
     },
     "execution_count": 18,
     "metadata": {},
     "output_type": "execute_result"
    }
   ],
   "source": [
    "begin = 0\n",
    "end = 10\n",
    "step = 0.5\n",
    "np.arange(begin, end, step, dtype=np.float16)"
   ]
  },
  {
   "cell_type": "markdown",
   "id": "fallen-microwave",
   "metadata": {},
   "source": [
    "### Manipulation"
   ]
  },
  {
   "cell_type": "code",
   "execution_count": 19,
   "id": "reserved-harvey",
   "metadata": {},
   "outputs": [
    {
     "data": {
      "text/plain": [
       "array([[1., 1.],\n",
       "       [1., 1.],\n",
       "       [1., 1.]])"
      ]
     },
     "execution_count": 19,
     "metadata": {},
     "output_type": "execute_result"
    }
   ],
   "source": [
    "T1 = np.ones((3,2))\n",
    "T1"
   ]
  },
  {
   "cell_type": "code",
   "execution_count": 20,
   "id": "velvet-cartoon",
   "metadata": {},
   "outputs": [
    {
     "data": {
      "text/plain": [
       "array([[0., 0.],\n",
       "       [0., 0.],\n",
       "       [0., 0.]])"
      ]
     },
     "execution_count": 20,
     "metadata": {},
     "output_type": "execute_result"
    }
   ],
   "source": [
    "T2 = np.zeros((3,2))\n",
    "T2"
   ]
  },
  {
   "cell_type": "markdown",
   "id": "congressional-center",
   "metadata": {},
   "source": [
    "#### Assembler deux tableaux"
   ]
  },
  {
   "cell_type": "markdown",
   "id": "average-browse",
   "metadata": {},
   "source": [
    ". Horizontal"
   ]
  },
  {
   "cell_type": "code",
   "execution_count": 21,
   "id": "geographic-house",
   "metadata": {},
   "outputs": [
    {
     "data": {
      "text/plain": [
       "array([[1., 1., 0., 0.],\n",
       "       [1., 1., 0., 0.],\n",
       "       [1., 1., 0., 0.]])"
      ]
     },
     "execution_count": 21,
     "metadata": {},
     "output_type": "execute_result"
    }
   ],
   "source": [
    "H = np.hstack((T1, T2))\n",
    "H"
   ]
  },
  {
   "cell_type": "code",
   "execution_count": 22,
   "id": "advised-workshop",
   "metadata": {},
   "outputs": [
    {
     "data": {
      "text/plain": [
       "(3, 4)"
      ]
     },
     "execution_count": 22,
     "metadata": {},
     "output_type": "execute_result"
    }
   ],
   "source": [
    "H.shape"
   ]
  },
  {
   "cell_type": "markdown",
   "id": "freelance-machine",
   "metadata": {},
   "source": [
    ". Vertical"
   ]
  },
  {
   "cell_type": "code",
   "execution_count": 23,
   "id": "operational-fellow",
   "metadata": {},
   "outputs": [
    {
     "data": {
      "text/plain": [
       "array([[1., 1.],\n",
       "       [1., 1.],\n",
       "       [1., 1.],\n",
       "       [0., 0.],\n",
       "       [0., 0.],\n",
       "       [0., 0.]])"
      ]
     },
     "execution_count": 23,
     "metadata": {},
     "output_type": "execute_result"
    }
   ],
   "source": [
    "V = np.vstack((T1, T2))\n",
    "V"
   ]
  },
  {
   "cell_type": "code",
   "execution_count": 24,
   "id": "studied-valve",
   "metadata": {},
   "outputs": [
    {
     "data": {
      "text/plain": [
       "(6, 2)"
      ]
     },
     "execution_count": 24,
     "metadata": {},
     "output_type": "execute_result"
    }
   ],
   "source": [
    "V.shape"
   ]
  },
  {
   "cell_type": "markdown",
   "id": "israeli-robert",
   "metadata": {},
   "source": [
    "##### Reshape"
   ]
  },
  {
   "cell_type": "code",
   "execution_count": 25,
   "id": "auburn-southeast",
   "metadata": {},
   "outputs": [
    {
     "data": {
      "text/plain": [
       "array([[1., 1., 1., 1.],\n",
       "       [1., 1., 0., 0.],\n",
       "       [0., 0., 0., 0.]])"
      ]
     },
     "execution_count": 25,
     "metadata": {},
     "output_type": "execute_result"
    }
   ],
   "source": [
    "Vr = V.reshape((3,4))\n",
    "Vr"
   ]
  },
  {
   "cell_type": "code",
   "execution_count": 26,
   "id": "behind-interest",
   "metadata": {},
   "outputs": [
    {
     "data": {
      "text/plain": [
       "(5,)"
      ]
     },
     "execution_count": 26,
     "metadata": {},
     "output_type": "execute_result"
    }
   ],
   "source": [
    "tab = np.array([1,2,3,4,5])\n",
    "tab.shape"
   ]
  },
  {
   "cell_type": "code",
   "execution_count": 27,
   "id": "stock-peter",
   "metadata": {},
   "outputs": [
    {
     "data": {
      "text/plain": [
       "(5, 1)"
      ]
     },
     "execution_count": 27,
     "metadata": {},
     "output_type": "execute_result"
    }
   ],
   "source": [
    "tab = tab.reshape((tab.shape[0],1))\n",
    "tab.shape"
   ]
  },
  {
   "cell_type": "markdown",
   "id": "facial-highland",
   "metadata": {},
   "source": [
    "#### **ravel**"
   ]
  },
  {
   "cell_type": "code",
   "execution_count": 28,
   "id": "overhead-karen",
   "metadata": {},
   "outputs": [
    {
     "data": {
      "text/plain": [
       "array([1., 1., 1., 1., 1., 1., 0., 0., 0., 0., 0., 0.])"
      ]
     },
     "execution_count": 28,
     "metadata": {},
     "output_type": "execute_result"
    }
   ],
   "source": [
    "plat = Vr.ravel()\n",
    "plat"
   ]
  },
  {
   "cell_type": "markdown",
   "id": "touched-height",
   "metadata": {},
   "source": [
    "# **Exercice**"
   ]
  },
  {
   "cell_type": "code",
   "execution_count": 29,
   "id": "inner-secretary",
   "metadata": {},
   "outputs": [],
   "source": [
    "def initialisation(m, n):\n",
    "    tmp = np.random.randn(m, n)\n",
    "    O = np.ones((tmp.shape[0], 1))\n",
    "    T = np.hstack((tmp, O))\n",
    "    return T"
   ]
  },
  {
   "cell_type": "code",
   "execution_count": 30,
   "id": "conditional-interest",
   "metadata": {},
   "outputs": [
    {
     "data": {
      "text/plain": [
       "array([[ 0.33367433,  1.49407907, -0.20515826,  1.        ],\n",
       "       [ 0.3130677 , -0.85409574, -2.55298982,  1.        ]])"
      ]
     },
     "execution_count": 30,
     "metadata": {},
     "output_type": "execute_result"
    }
   ],
   "source": [
    "initialisation(2,3)"
   ]
  }
 ],
 "metadata": {
  "kernelspec": {
   "display_name": "Python 3",
   "language": "python",
   "name": "python3"
  },
  "language_info": {
   "codemirror_mode": {
    "name": "ipython",
    "version": 3
   },
   "file_extension": ".py",
   "mimetype": "text/x-python",
   "name": "python",
   "nbconvert_exporter": "python",
   "pygments_lexer": "ipython3",
   "version": "3.7.0"
  }
 },
 "nbformat": 4,
 "nbformat_minor": 5
}
