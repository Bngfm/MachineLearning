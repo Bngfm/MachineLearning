{
 "cells": [
  {
   "cell_type": "markdown",
   "id": "corporate-action",
   "metadata": {},
   "source": [
    "# **Quelques modules** | **Some modules**"
   ]
  },
  {
   "cell_type": "code",
   "execution_count": 21,
   "id": "wrong-footwear",
   "metadata": {},
   "outputs": [],
   "source": [
    "import math\n",
    "import random\n",
    "import statistics as stat\n",
    "import glob\n",
    "import os"
   ]
  },
  {
   "cell_type": "markdown",
   "id": "charitable-portal",
   "metadata": {},
   "source": [
    "### MATH"
   ]
  },
  {
   "cell_type": "code",
   "execution_count": 22,
   "id": "veterinary-controversy",
   "metadata": {},
   "outputs": [
    {
     "data": {
      "text/plain": [
       "3.141592653589793"
      ]
     },
     "execution_count": 22,
     "metadata": {},
     "output_type": "execute_result"
    }
   ],
   "source": [
    "math.pi"
   ]
  },
  {
   "cell_type": "code",
   "execution_count": 23,
   "id": "thousand-rubber",
   "metadata": {},
   "outputs": [
    {
     "data": {
      "text/plain": [
       "-1.0"
      ]
     },
     "execution_count": 23,
     "metadata": {},
     "output_type": "execute_result"
    }
   ],
   "source": [
    "math.cos(math.pi)"
   ]
  },
  {
   "cell_type": "code",
   "execution_count": 24,
   "id": "liquid-compilation",
   "metadata": {},
   "outputs": [
    {
     "data": {
      "text/plain": [
       "20.085536923187668"
      ]
     },
     "execution_count": 24,
     "metadata": {},
     "output_type": "execute_result"
    }
   ],
   "source": [
    "math.exp(3)"
   ]
  },
  {
   "cell_type": "markdown",
   "id": "subtle-negotiation",
   "metadata": {},
   "source": [
    "### STAT"
   ]
  },
  {
   "cell_type": "code",
   "execution_count": 25,
   "id": "overhead-appraisal",
   "metadata": {},
   "outputs": [
    {
     "data": {
      "text/plain": [
       "3.5"
      ]
     },
     "execution_count": 25,
     "metadata": {},
     "output_type": "execute_result"
    }
   ],
   "source": [
    "l = [1,2,3,4,5,6]\n",
    "stat.mean(l)"
   ]
  },
  {
   "cell_type": "code",
   "execution_count": 26,
   "id": "leading-stretch",
   "metadata": {},
   "outputs": [
    {
     "data": {
      "text/plain": [
       "3.5"
      ]
     },
     "execution_count": 26,
     "metadata": {},
     "output_type": "execute_result"
    }
   ],
   "source": [
    "stat.variance(l)"
   ]
  },
  {
   "cell_type": "markdown",
   "id": "multiple-inclusion",
   "metadata": {},
   "source": [
    "### RANDOM"
   ]
  },
  {
   "cell_type": "code",
   "execution_count": 27,
   "id": "compliant-circulation",
   "metadata": {},
   "outputs": [
    {
     "data": {
      "text/plain": [
       "1"
      ]
     },
     "execution_count": 27,
     "metadata": {},
     "output_type": "execute_result"
    }
   ],
   "source": [
    "random.choice([1,2,4,5])"
   ]
  },
  {
   "cell_type": "code",
   "execution_count": 28,
   "id": "numeric-sampling",
   "metadata": {},
   "outputs": [],
   "source": [
    "random.seed(0)"
   ]
  },
  {
   "cell_type": "code",
   "execution_count": 29,
   "id": "broadband-advice",
   "metadata": {},
   "outputs": [
    {
     "data": {
      "text/plain": [
       "4"
      ]
     },
     "execution_count": 29,
     "metadata": {},
     "output_type": "execute_result"
    }
   ],
   "source": [
    "random.choice([1,2,3,4,5])"
   ]
  },
  {
   "cell_type": "code",
   "execution_count": 30,
   "id": "coral-rescue",
   "metadata": {},
   "outputs": [
    {
     "data": {
      "text/plain": [
       "0.7579544029403025"
      ]
     },
     "execution_count": 30,
     "metadata": {},
     "output_type": "execute_result"
    }
   ],
   "source": [
    "# entre 0 et 1\n",
    "random.random() # flaot"
   ]
  },
  {
   "cell_type": "code",
   "execution_count": 31,
   "id": "right-hello",
   "metadata": {},
   "outputs": [
    {
     "data": {
      "text/plain": [
       "7"
      ]
     },
     "execution_count": 31,
     "metadata": {},
     "output_type": "execute_result"
    }
   ],
   "source": [
    "# rand INT\n",
    "random.randint(1,8)"
   ]
  },
  {
   "cell_type": "code",
   "execution_count": 32,
   "id": "powerful-arrest",
   "metadata": {},
   "outputs": [
    {
     "data": {
      "text/plain": [
       "5"
      ]
     },
     "execution_count": 32,
     "metadata": {},
     "output_type": "execute_result"
    }
   ],
   "source": [
    "# entre 0 et 100\n",
    "random.randrange(100)"
   ]
  },
  {
   "cell_type": "code",
   "execution_count": 33,
   "id": "nervous-invite",
   "metadata": {},
   "outputs": [
    {
     "data": {
      "text/plain": [
       "[33, 65, 62, 51, 38]"
      ]
     },
     "execution_count": 33,
     "metadata": {},
     "output_type": "execute_result"
    }
   ],
   "source": [
    "# population avec 5 element\n",
    "random.sample(range(100), 5)"
   ]
  },
  {
   "cell_type": "code",
   "execution_count": 34,
   "id": "handy-pursuit",
   "metadata": {},
   "outputs": [
    {
     "data": {
      "text/plain": [
       "[45, 74, 27, 64, 17, 36, 96]"
      ]
     },
     "execution_count": 34,
     "metadata": {},
     "output_type": "execute_result"
    }
   ],
   "source": [
    "# avec un nombre aléatoire d'éléments\n",
    "random.sample(range(100), random.randrange(10))"
   ]
  },
  {
   "cell_type": "code",
   "execution_count": 35,
   "id": "fixed-plane",
   "metadata": {},
   "outputs": [],
   "source": [
    "# mélanger \n",
    "random.shuffle([1,2,3,4,5,6,7,8,9])"
   ]
  },
  {
   "cell_type": "markdown",
   "id": "intelligent-alfred",
   "metadata": {},
   "source": [
    "# **OS**"
   ]
  },
  {
   "cell_type": "code",
   "execution_count": 36,
   "id": "expired-conditions",
   "metadata": {},
   "outputs": [
    {
     "data": {
      "text/plain": [
       "'C:\\\\Users\\\\PC\\\\Notebook\\\\ML'"
      ]
     },
     "execution_count": 36,
     "metadata": {},
     "output_type": "execute_result"
    }
   ],
   "source": [
    "os.getcwd()"
   ]
  },
  {
   "cell_type": "markdown",
   "id": "funky-hardwood",
   "metadata": {},
   "source": [
    "# **glob**"
   ]
  },
  {
   "cell_type": "code",
   "execution_count": 37,
   "id": "subject-emission",
   "metadata": {},
   "outputs": [
    {
     "data": {
      "text/plain": [
       "['1_Dictionnary.ipynb',\n",
       " '2_List_Dict_Comprehension.ipynb',\n",
       " 'BTC-EUR.csv',\n",
       " 'ETH-USD.csv',\n",
       " 'imageBackGround.ipynb',\n",
       " 'imgJupyter.png',\n",
       " 'Thumbs.db',\n",
       " 'titanic3.xls',\n",
       " 'video10.ipynb',\n",
       " 'video11.ipynb',\n",
       " 'video12.ipynb',\n",
       " 'video13.ipynb',\n",
       " 'video14.ipynb',\n",
       " 'video15.ipynb',\n",
       " 'video16.ipynb',\n",
       " 'video17.ipynb',\n",
       " 'video18.ipynb',\n",
       " 'video2.ipynb',\n",
       " 'video20.ipynb',\n",
       " 'video21.ipynb',\n",
       " 'video22.ipynb',\n",
       " 'video23.ipynb',\n",
       " 'video7.ipynb',\n",
       " 'video8.ipynb',\n",
       " 'work-images']"
      ]
     },
     "execution_count": 37,
     "metadata": {},
     "output_type": "execute_result"
    }
   ],
   "source": [
    "glob.glob(\"*\")"
   ]
  },
  {
   "cell_type": "markdown",
   "id": "banner-batch",
   "metadata": {},
   "source": [
    "## fonctions de base | basic functions"
   ]
  },
  {
   "cell_type": "code",
   "execution_count": 18,
   "id": "split-pacific",
   "metadata": {},
   "outputs": [
    {
     "data": {
      "text/plain": [
       "5"
      ]
     },
     "execution_count": 18,
     "metadata": {},
     "output_type": "execute_result"
    }
   ],
   "source": [
    "a = -5\n",
    "abs(a)"
   ]
  },
  {
   "cell_type": "code",
   "execution_count": 19,
   "id": "modified-courtesy",
   "metadata": {},
   "outputs": [
    {
     "data": {
      "text/plain": [
       "3"
      ]
     },
     "execution_count": 19,
     "metadata": {},
     "output_type": "execute_result"
    }
   ],
   "source": [
    "a = 3.34\n",
    "round(a)"
   ]
  },
  {
   "cell_type": "code",
   "execution_count": 38,
   "id": "average-newman",
   "metadata": {},
   "outputs": [],
   "source": [
    "l1 = [1,8,3,4,-54,-14,54]"
   ]
  },
  {
   "cell_type": "code",
   "execution_count": 39,
   "id": "minor-tackle",
   "metadata": {},
   "outputs": [
    {
     "data": {
      "text/plain": [
       "54"
      ]
     },
     "execution_count": 39,
     "metadata": {},
     "output_type": "execute_result"
    }
   ],
   "source": [
    "max(l1)"
   ]
  },
  {
   "cell_type": "code",
   "execution_count": 40,
   "id": "sexual-princeton",
   "metadata": {},
   "outputs": [
    {
     "data": {
      "text/plain": [
       "-54"
      ]
     },
     "execution_count": 40,
     "metadata": {},
     "output_type": "execute_result"
    }
   ],
   "source": [
    "min(l1)"
   ]
  },
  {
   "cell_type": "code",
   "execution_count": 41,
   "id": "interpreted-coaching",
   "metadata": {},
   "outputs": [
    {
     "data": {
      "text/plain": [
       "7"
      ]
     },
     "execution_count": 41,
     "metadata": {},
     "output_type": "execute_result"
    }
   ],
   "source": [
    "len(l1)"
   ]
  },
  {
   "cell_type": "code",
   "execution_count": 42,
   "id": "undefined-curtis",
   "metadata": {},
   "outputs": [
    {
     "data": {
      "text/plain": [
       "2"
      ]
     },
     "execution_count": 42,
     "metadata": {},
     "output_type": "execute_result"
    }
   ],
   "source": [
    "sum(l1)"
   ]
  },
  {
   "cell_type": "code",
   "execution_count": 43,
   "id": "labeled-anxiety",
   "metadata": {},
   "outputs": [],
   "source": [
    "l2 = [True, True, False]"
   ]
  },
  {
   "cell_type": "code",
   "execution_count": 44,
   "id": "prerequisite-profession",
   "metadata": {},
   "outputs": [
    {
     "data": {
      "text/plain": [
       "False"
      ]
     },
     "execution_count": 44,
     "metadata": {},
     "output_type": "execute_result"
    }
   ],
   "source": [
    "all(l2)"
   ]
  },
  {
   "cell_type": "code",
   "execution_count": 45,
   "id": "blocked-nitrogen",
   "metadata": {},
   "outputs": [
    {
     "data": {
      "text/plain": [
       "True"
      ]
     },
     "execution_count": 45,
     "metadata": {},
     "output_type": "execute_result"
    }
   ],
   "source": [
    "any(l2)"
   ]
  },
  {
   "cell_type": "code",
   "execution_count": 46,
   "id": "complete-investment",
   "metadata": {},
   "outputs": [
    {
     "data": {
      "text/plain": [
       "True"
      ]
     },
     "execution_count": 46,
     "metadata": {},
     "output_type": "execute_result"
    }
   ],
   "source": [
    "all(l1)"
   ]
  },
  {
   "cell_type": "code",
   "execution_count": 47,
   "id": "tropical-tiffany",
   "metadata": {},
   "outputs": [
    {
     "data": {
      "text/plain": [
       "True"
      ]
     },
     "execution_count": 47,
     "metadata": {},
     "output_type": "execute_result"
    }
   ],
   "source": [
    "any(l1)"
   ]
  },
  {
   "cell_type": "markdown",
   "id": "adjustable-consent",
   "metadata": {},
   "source": [
    "## Conversions"
   ]
  },
  {
   "cell_type": "code",
   "execution_count": 48,
   "id": "comic-exploration",
   "metadata": {},
   "outputs": [
    {
     "data": {
      "text/plain": [
       "int"
      ]
     },
     "execution_count": 48,
     "metadata": {},
     "output_type": "execute_result"
    }
   ],
   "source": [
    "x = 16\n",
    "type(x)"
   ]
  },
  {
   "cell_type": "code",
   "execution_count": 49,
   "id": "serial-boring",
   "metadata": {},
   "outputs": [
    {
     "data": {
      "text/plain": [
       "str"
      ]
     },
     "execution_count": 49,
     "metadata": {},
     "output_type": "execute_result"
    }
   ],
   "source": [
    "x = str(x)\n",
    "type(x)"
   ]
  },
  {
   "cell_type": "code",
   "execution_count": 50,
   "id": "pointed-nigeria",
   "metadata": {},
   "outputs": [
    {
     "data": {
      "text/plain": [
       "str"
      ]
     },
     "execution_count": 50,
     "metadata": {},
     "output_type": "execute_result"
    }
   ],
   "source": [
    "b = '3'\n",
    "type(b)"
   ]
  },
  {
   "cell_type": "code",
   "execution_count": 51,
   "id": "automatic-darwin",
   "metadata": {},
   "outputs": [
    {
     "data": {
      "text/plain": [
       "int"
      ]
     },
     "execution_count": 51,
     "metadata": {},
     "output_type": "execute_result"
    }
   ],
   "source": [
    "b = int(b)\n",
    "type(b)"
   ]
  },
  {
   "cell_type": "code",
   "execution_count": 1,
   "id": "three-triangle",
   "metadata": {},
   "outputs": [
    {
     "data": {
      "text/plain": [
       "(1, 2, 3, 4)"
      ]
     },
     "execution_count": 1,
     "metadata": {},
     "output_type": "execute_result"
    }
   ],
   "source": [
    "# Liste => Tuple\n",
    "l = [1,2,3,4]\n",
    "t = tuple(l)\n",
    "t"
   ]
  },
  {
   "cell_type": "code",
   "execution_count": null,
   "id": "nasty-fashion",
   "metadata": {},
   "outputs": [],
   "source": []
  }
 ],
 "metadata": {
  "kernelspec": {
   "display_name": "Python 3",
   "language": "python",
   "name": "python3"
  },
  "language_info": {
   "codemirror_mode": {
    "name": "ipython",
    "version": 3
   },
   "file_extension": ".py",
   "mimetype": "text/x-python",
   "name": "python",
   "nbconvert_exporter": "python",
   "pygments_lexer": "ipython3",
   "version": "3.7.0"
  }
 },
 "nbformat": 4,
 "nbformat_minor": 5
}
