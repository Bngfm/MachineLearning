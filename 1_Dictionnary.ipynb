{
 "cells": [
  {
   "cell_type": "markdown",
   "id": "featured-scratch",
   "metadata": {},
   "source": [
    "# **Dictionnary**"
   ]
  },
  {
   "cell_type": "code",
   "execution_count": 40,
   "id": "literary-works",
   "metadata": {},
   "outputs": [],
   "source": [
    "dictionnaire = {\n",
    "    \"k1\": \"value1\",\n",
    "    \"k2\": \"value2\",\n",
    "    \"k3\": \"value3\",\n",
    "    \"k4\": \"value4\",\n",
    "    \"k5\": \"value5\",\n",
    "}"
   ]
  },
  {
   "cell_type": "markdown",
   "id": "romantic-potential",
   "metadata": {},
   "source": [
    "## **values()**"
   ]
  },
  {
   "cell_type": "code",
   "execution_count": 41,
   "id": "brief-ebony",
   "metadata": {},
   "outputs": [
    {
     "data": {
      "text/plain": [
       "dict_values(['value1', 'value2', 'value3', 'value4', 'value5'])"
      ]
     },
     "execution_count": 41,
     "metadata": {},
     "output_type": "execute_result"
    }
   ],
   "source": [
    "dictionnaire.values()"
   ]
  },
  {
   "cell_type": "markdown",
   "id": "noble-train",
   "metadata": {},
   "source": [
    "## **keys()**"
   ]
  },
  {
   "cell_type": "code",
   "execution_count": 42,
   "id": "orange-brunswick",
   "metadata": {},
   "outputs": [
    {
     "data": {
      "text/plain": [
       "dict_keys(['k1', 'k2', 'k3', 'k4', 'k5'])"
      ]
     },
     "execution_count": 42,
     "metadata": {},
     "output_type": "execute_result"
    }
   ],
   "source": [
    "dictionnaire.keys()"
   ]
  },
  {
   "cell_type": "markdown",
   "id": "senior-anthropology",
   "metadata": {},
   "source": [
    "## **len(dict)**"
   ]
  },
  {
   "cell_type": "code",
   "execution_count": 43,
   "id": "extended-masters",
   "metadata": {},
   "outputs": [
    {
     "data": {
      "text/plain": [
       "5"
      ]
     },
     "execution_count": 43,
     "metadata": {},
     "output_type": "execute_result"
    }
   ],
   "source": [
    "len(dictionnaire)"
   ]
  },
  {
   "cell_type": "markdown",
   "id": "interim-market",
   "metadata": {},
   "source": [
    "## **get('key')**"
   ]
  },
  {
   "cell_type": "code",
   "execution_count": 44,
   "id": "former-produce",
   "metadata": {},
   "outputs": [],
   "source": [
    "dictionnaire[\"k6\"] = \"values6\""
   ]
  },
  {
   "cell_type": "code",
   "execution_count": 45,
   "id": "deluxe-galaxy",
   "metadata": {},
   "outputs": [
    {
     "data": {
      "text/plain": [
       "'values6'"
      ]
     },
     "execution_count": 45,
     "metadata": {},
     "output_type": "execute_result"
    }
   ],
   "source": [
    "dictionnaire.get(\"k6\")"
   ]
  },
  {
   "cell_type": "code",
   "execution_count": 46,
   "id": "analyzed-advancement",
   "metadata": {},
   "outputs": [
    {
     "data": {
      "text/plain": [
       "{'k1': 'value1',\n",
       " 'k2': 'value2',\n",
       " 'k3': 'value3',\n",
       " 'k4': 'value4',\n",
       " 'k5': 'value5',\n",
       " 'k6': 'values6'}"
      ]
     },
     "execution_count": 46,
     "metadata": {},
     "output_type": "execute_result"
    }
   ],
   "source": [
    "dictionnaire"
   ]
  },
  {
   "cell_type": "code",
   "execution_count": 47,
   "id": "satisfactory-gathering",
   "metadata": {},
   "outputs": [
    {
     "data": {
      "text/plain": [
       "'value1'"
      ]
     },
     "execution_count": 47,
     "metadata": {},
     "output_type": "execute_result"
    }
   ],
   "source": [
    "dictionnaire.get(\"k1\")"
   ]
  },
  {
   "cell_type": "code",
   "execution_count": 48,
   "id": "indonesian-burner",
   "metadata": {},
   "outputs": [
    {
     "data": {
      "text/plain": [
       "'value1'"
      ]
     },
     "execution_count": 48,
     "metadata": {},
     "output_type": "execute_result"
    }
   ],
   "source": [
    "dictionnaire.get(\"k1\", 1)"
   ]
  },
  {
   "cell_type": "markdown",
   "id": "wicked-ministry",
   "metadata": {},
   "source": [
    "## **dict.fromkeys(list, 'defaultValues')**"
   ]
  },
  {
   "cell_type": "code",
   "execution_count": 38,
   "id": "contained-technique",
   "metadata": {},
   "outputs": [
    {
     "data": {
      "text/plain": [
       "{1: 'default', 2: 'default', 3: 'default', 4: 'default'}"
      ]
     },
     "execution_count": 38,
     "metadata": {},
     "output_type": "execute_result"
    }
   ],
   "source": [
    "l = [1,2,3,4]\n",
    "dictionnaire.fromkeys(l, 'default')"
   ]
  },
  {
   "cell_type": "markdown",
   "id": "informative-america",
   "metadata": {},
   "source": [
    "## **dict.pop('key')**"
   ]
  },
  {
   "cell_type": "code",
   "execution_count": 49,
   "id": "pointed-airplane",
   "metadata": {},
   "outputs": [],
   "source": [
    "lastElement = dictionnaire.pop(\"k6\")"
   ]
  },
  {
   "cell_type": "code",
   "execution_count": 50,
   "id": "anonymous-somerset",
   "metadata": {},
   "outputs": [
    {
     "data": {
      "text/plain": [
       "'values6'"
      ]
     },
     "execution_count": 50,
     "metadata": {},
     "output_type": "execute_result"
    }
   ],
   "source": [
    "lastElement"
   ]
  },
  {
   "cell_type": "code",
   "execution_count": 51,
   "id": "divine-scotland",
   "metadata": {},
   "outputs": [
    {
     "data": {
      "text/plain": [
       "{'k1': 'value1',\n",
       " 'k2': 'value2',\n",
       " 'k3': 'value3',\n",
       " 'k4': 'value4',\n",
       " 'k5': 'value5'}"
      ]
     },
     "execution_count": 51,
     "metadata": {},
     "output_type": "execute_result"
    }
   ],
   "source": [
    "dictionnaire"
   ]
  },
  {
   "cell_type": "code",
   "execution_count": 16,
   "id": "attended-virgin",
   "metadata": {},
   "outputs": [
    {
     "name": "stdout",
     "output_type": "stream",
     "text": [
      "k1\n",
      "k2\n",
      "k3\n",
      "k4\n",
      "k5\n"
     ]
    }
   ],
   "source": [
    "for i in dictionnaire:\n",
    "    print(i)"
   ]
  },
  {
   "cell_type": "code",
   "execution_count": 17,
   "id": "resident-parliament",
   "metadata": {},
   "outputs": [
    {
     "name": "stdout",
     "output_type": "stream",
     "text": [
      "k1 :  value1\n",
      "k2 :  value2\n",
      "k3 :  value3\n",
      "k4 :  value4\n",
      "k5 :  value5\n"
     ]
    }
   ],
   "source": [
    "for i,v in dictionnaire.items():\n",
    "    print(i, ': ', v)"
   ]
  },
  {
   "cell_type": "markdown",
   "id": "critical-weather",
   "metadata": {},
   "source": [
    "## ***Exercice***"
   ]
  },
  {
   "cell_type": "code",
   "execution_count": 18,
   "id": "wired-seventh",
   "metadata": {},
   "outputs": [],
   "source": [
    "classeur = {\n",
    "    \"positif\" : [],\n",
    "    \"negatif\" : []\n",
    "}"
   ]
  },
  {
   "cell_type": "code",
   "execution_count": 19,
   "id": "surprising-redhead",
   "metadata": {},
   "outputs": [],
   "source": [
    "def trierNombre(classeur, nombre):\n",
    "    \n",
    "    if nombre > 0:\n",
    "        classeur[\"positif\"].append(nombre)\n",
    "    else :\n",
    "        classeur[\"negatif\"].append(nombre)\n",
    "    \n",
    "    return classeur"
   ]
  },
  {
   "cell_type": "code",
   "execution_count": 20,
   "id": "prescription-despite",
   "metadata": {},
   "outputs": [
    {
     "data": {
      "text/plain": [
       "{'positif': [5], 'negatif': []}"
      ]
     },
     "execution_count": 20,
     "metadata": {},
     "output_type": "execute_result"
    }
   ],
   "source": [
    "trierNombre(classeur, 5)"
   ]
  },
  {
   "cell_type": "code",
   "execution_count": 21,
   "id": "decimal-wagon",
   "metadata": {
    "scrolled": true,
    "tags": []
   },
   "outputs": [
    {
     "data": {
      "text/plain": [
       "{'positif': [5, 10], 'negatif': []}"
      ]
     },
     "execution_count": 21,
     "metadata": {},
     "output_type": "execute_result"
    }
   ],
   "source": [
    "trierNombre(classeur, 10)"
   ]
  },
  {
   "cell_type": "code",
   "execution_count": 22,
   "id": "given-hamilton",
   "metadata": {},
   "outputs": [
    {
     "data": {
      "text/plain": [
       "{'positif': [5, 10], 'negatif': [-65]}"
      ]
     },
     "execution_count": 22,
     "metadata": {},
     "output_type": "execute_result"
    }
   ],
   "source": [
    "trierNombre(classeur, -65)"
   ]
  }
 ],
 "metadata": {
  "kernelspec": {
   "display_name": "Python 3",
   "language": "python",
   "name": "python3"
  },
  "language_info": {
   "codemirror_mode": {
    "name": "ipython",
    "version": 3
   },
   "file_extension": ".py",
   "mimetype": "text/x-python",
   "name": "python",
   "nbconvert_exporter": "python",
   "pygments_lexer": "ipython3",
   "version": "3.7.0"
  }
 },
 "nbformat": 4,
 "nbformat_minor": 5
}
