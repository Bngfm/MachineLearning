{
 "cells": [
  {
   "cell_type": "markdown",
   "id": "intense-subscription",
   "metadata": {},
   "source": [
    "# **List comprehension**"
   ]
  },
  {
   "cell_type": "code",
   "execution_count": 5,
   "id": "approximate-mediterranean",
   "metadata": {},
   "outputs": [],
   "source": [
    "import time"
   ]
  },
  {
   "cell_type": "code",
   "execution_count": 6,
   "id": "electrical-yellow",
   "metadata": {
    "tags": []
   },
   "outputs": [
    {
     "name": "stdout",
     "output_type": "stream",
     "text": [
      "temps de création 0.001001596450805664\n"
     ]
    },
    {
     "data": {
      "text/plain": [
       "[0, 1, 4, 9, 16, 25, 36, 49, 64, 81, 100]"
      ]
     },
     "execution_count": 6,
     "metadata": {},
     "output_type": "execute_result"
    }
   ],
   "source": [
    "# les carrés de 0 a 10\n",
    "liste = []\n",
    "\n",
    "# temps d'exécution\n",
    "start = time.time()\n",
    "\n",
    "for i in range(11):\n",
    "    liste.append(i**2)\n",
    "\n",
    "end = time.time()\n",
    "print('temps de création', end-start)\n",
    "liste"
   ]
  },
  {
   "cell_type": "markdown",
   "id": "european-victory",
   "metadata": {
    "tags": []
   },
   "source": [
    "#### List comprehension"
   ]
  },
  {
   "cell_type": "code",
   "execution_count": 8,
   "id": "classical-court",
   "metadata": {},
   "outputs": [
    {
     "name": "stdout",
     "output_type": "stream",
     "text": [
      "temps de création 0.0\n"
     ]
    },
    {
     "data": {
      "text/plain": [
       "[0, 1, 4, 9, 16, 25, 36, 49, 64, 81, 100]"
      ]
     },
     "execution_count": 8,
     "metadata": {},
     "output_type": "execute_result"
    }
   ],
   "source": [
    "s = time.time()\n",
    "\n",
    "l = [(i**2) for i in range(11)]\n",
    "\n",
    "e = time.time()\n",
    "print('temps de création', e-s)\n",
    "l"
   ]
  },
  {
   "cell_type": "markdown",
   "id": "colonial-registration",
   "metadata": {},
   "source": [
    "# **NestedList**\n",
    "##### but d'utilisation de **List Comprehension** est de créer des listes dans des listes"
   ]
  },
  {
   "cell_type": "code",
   "execution_count": 14,
   "id": "independent-jerusalem",
   "metadata": {},
   "outputs": [
    {
     "data": {
      "text/plain": [
       "[[0, 1, 4, 9, 16, 25], [0, 1, 4, 9, 16, 25], [0, 1, 4, 9, 16, 25]]"
      ]
     },
     "execution_count": 14,
     "metadata": {},
     "output_type": "execute_result"
    }
   ],
   "source": [
    "l1 = [[i**2 for i in range(6)] for j in range(3)]\n",
    "l1"
   ]
  },
  {
   "cell_type": "markdown",
   "id": "hungry-wrapping",
   "metadata": {},
   "source": [
    "# **Dict comprehension**"
   ]
  },
  {
   "cell_type": "code",
   "execution_count": 16,
   "id": "dirty-techno",
   "metadata": {},
   "outputs": [
    {
     "data": {
      "text/plain": [
       "{'0': 'zero', '1': 'un', '3': 'deux'}"
      ]
     },
     "execution_count": 16,
     "metadata": {},
     "output_type": "execute_result"
    }
   ],
   "source": [
    "dictionnaire = {\n",
    "    '0': 'zero',\n",
    "    '1': 'un',\n",
    "    '3': 'deux'\n",
    "}\n",
    "dictionnaire"
   ]
  },
  {
   "cell_type": "code",
   "execution_count": 20,
   "id": "extraordinary-proposition",
   "metadata": {},
   "outputs": [
    {
     "data": {
      "text/plain": [
       "['zero', 'un', 'deux']"
      ]
     },
     "execution_count": 20,
     "metadata": {},
     "output_type": "execute_result"
    }
   ],
   "source": [
    "nombres = [\"zero\",\"un\",\"deux\"]\n",
    "nombres"
   ]
  },
  {
   "cell_type": "code",
   "execution_count": 22,
   "id": "funded-poison",
   "metadata": {},
   "outputs": [
    {
     "data": {
      "text/plain": [
       "{0: 'zero', 1: 'un', 2: 'deux'}"
      ]
     },
     "execution_count": 22,
     "metadata": {},
     "output_type": "execute_result"
    }
   ],
   "source": [
    "DictComp = {k:v for k,v in enumerate(nombres)}\n",
    "DictComp"
   ]
  },
  {
   "cell_type": "markdown",
   "id": "consolidated-vegetarian",
   "metadata": {},
   "source": [
    "# pratique"
   ]
  },
  {
   "cell_type": "code",
   "execution_count": 24,
   "id": "heated-exposure",
   "metadata": {},
   "outputs": [
    {
     "data": {
      "text/plain": [
       "(['nassim', 'farid', 'toto', 'titi'], [12, 45, 36, 85, 47, 19])"
      ]
     },
     "execution_count": 24,
     "metadata": {},
     "output_type": "execute_result"
    }
   ],
   "source": [
    "noms = [\"nassim\", \"farid\", \"toto\", \"titi\"]\n",
    "ages = [12,45,36,85,47,19]\n",
    "noms, ages"
   ]
  },
  {
   "cell_type": "code",
   "execution_count": 26,
   "id": "indian-pound",
   "metadata": {},
   "outputs": [
    {
     "data": {
      "text/plain": [
       "{'nassim': 12, 'farid': 45, 'toto': 36, 'titi': 85}"
      ]
     },
     "execution_count": 26,
     "metadata": {},
     "output_type": "execute_result"
    }
   ],
   "source": [
    "dico = {prenom:age for prenom, age in zip(noms, ages)}\n",
    "dico"
   ]
  },
  {
   "cell_type": "code",
   "execution_count": 27,
   "id": "dressed-fighter",
   "metadata": {},
   "outputs": [
    {
     "data": {
      "text/plain": [
       "{'farid': 45, 'toto': 36, 'titi': 85}"
      ]
     },
     "execution_count": 27,
     "metadata": {},
     "output_type": "execute_result"
    }
   ],
   "source": [
    "dico = {prenom:age for prenom, age in zip(noms, ages) if age > 20}\n",
    "dico"
   ]
  },
  {
   "cell_type": "markdown",
   "id": "expanded-pontiac",
   "metadata": {},
   "source": [
    "# **Exercice**"
   ]
  },
  {
   "cell_type": "code",
   "execution_count": 28,
   "id": "signed-antigua",
   "metadata": {},
   "outputs": [
    {
     "data": {
      "text/plain": [
       "{0: 0,\n",
       " 1: 1,\n",
       " 2: 4,\n",
       " 3: 9,\n",
       " 4: 16,\n",
       " 5: 25,\n",
       " 6: 36,\n",
       " 7: 49,\n",
       " 8: 64,\n",
       " 9: 81,\n",
       " 10: 100,\n",
       " 11: 121,\n",
       " 12: 144,\n",
       " 13: 169,\n",
       " 14: 196,\n",
       " 15: 225,\n",
       " 16: 256,\n",
       " 17: 289,\n",
       " 18: 324,\n",
       " 19: 361,\n",
       " 20: 400}"
      ]
     },
     "execution_count": 28,
     "metadata": {},
     "output_type": "execute_result"
    }
   ],
   "source": [
    "carre = {k:k**2 for k in range(21)}\n",
    "carre"
   ]
  },
  {
   "cell_type": "code",
   "execution_count": null,
   "id": "purple-medicaid",
   "metadata": {},
   "outputs": [],
   "source": []
  }
 ],
 "metadata": {
  "kernelspec": {
   "display_name": "Python 3",
   "language": "python",
   "name": "python3"
  },
  "language_info": {
   "codemirror_mode": {
    "name": "ipython",
    "version": 3
   },
   "file_extension": ".py",
   "mimetype": "text/x-python",
   "name": "python",
   "nbconvert_exporter": "python",
   "pygments_lexer": "ipython3",
   "version": "3.7.0"
  }
 },
 "nbformat": 4,
 "nbformat_minor": 5
}
