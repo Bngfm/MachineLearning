{
 "cells": [
  {
   "cell_type": "markdown",
   "id": "scheduled-advocacy",
   "metadata": {},
   "source": [
    "# **SKlearn**"
   ]
  },
  {
   "cell_type": "code",
   "execution_count": 1,
   "id": "rough-gentleman",
   "metadata": {},
   "outputs": [],
   "source": [
    "import numpy as np\n",
    "import matplotlib.pyplot as plt"
   ]
  },
  {
   "cell_type": "markdown",
   "id": "nasty-landscape",
   "metadata": {},
   "source": [
    "## 1°) Linear regression avec sklearn"
   ]
  },
  {
   "cell_type": "code",
   "execution_count": 2,
   "id": "statewide-survey",
   "metadata": {},
   "outputs": [],
   "source": [
    "np.random.seed(0)\n",
    "\n",
    "# creating 100 examples\n",
    "m = 100 \n",
    "\n",
    "# feattures\n",
    "X = np.linspace(0, 10, m).reshape(m, 1)\n",
    "\n",
    "# target \n",
    "y = X + np.random.randn(m, 1)"
   ]
  },
  {
   "cell_type": "code",
   "execution_count": 3,
   "id": "completed-uncertainty",
   "metadata": {},
   "outputs": [
    {
     "data": {
      "text/plain": [
       "<matplotlib.collections.PathCollection at 0xc322a6def0>"
      ]
     },
     "execution_count": 3,
     "metadata": {},
     "output_type": "execute_result"
    },
    {
     "data": {
      "image/png": "[encoded data removed]",
      "text/plain": [
       "<Figure size 432x288 with 1 Axes>"
      ]
     },
     "metadata": {
      "needs_background": "light"
     },
     "output_type": "display_data"
    }
   ],
   "source": [
    "plt.scatter(X, y)"
   ]
  },
  {
   "cell_type": "markdown",
   "id": "preliminary-attendance",
   "metadata": {},
   "source": [
    "## import modules LinearRegression"
   ]
  },
  {
   "cell_type": "code",
   "execution_count": 4,
   "id": "tired-volume",
   "metadata": {},
   "outputs": [],
   "source": [
    "from sklearn.linear_model import LinearRegression"
   ]
  },
  {
   "cell_type": "markdown",
   "id": "swiss-bearing",
   "metadata": {},
   "source": [
    "### I) **create model**"
   ]
  },
  {
   "cell_type": "code",
   "execution_count": 5,
   "id": "accomplished-intersection",
   "metadata": {},
   "outputs": [],
   "source": [
    "model = LinearRegression()"
   ]
  },
  {
   "cell_type": "markdown",
   "id": "dependent-murray",
   "metadata": {},
   "source": [
    "### II) **Train model**"
   ]
  },
  {
   "cell_type": "code",
   "execution_count": 6,
   "id": "painful-storage",
   "metadata": {},
   "outputs": [
    {
     "data": {
      "text/plain": [
       "LinearRegression()"
      ]
     },
     "execution_count": 6,
     "metadata": {},
     "output_type": "execute_result"
    }
   ],
   "source": [
    "model.fit(X,y)"
   ]
  },
  {
   "cell_type": "markdown",
   "id": "traditional-chapter",
   "metadata": {},
   "source": [
    "### III) **Evaluate model**"
   ]
  },
  {
   "cell_type": "code",
   "execution_count": 7,
   "id": "opening-christopher",
   "metadata": {},
   "outputs": [
    {
     "data": {
      "text/plain": [
       "0.8881140743377214"
      ]
     },
     "execution_count": 7,
     "metadata": {},
     "output_type": "execute_result"
    }
   ],
   "source": [
    "model.score(X, y)"
   ]
  },
  {
   "cell_type": "markdown",
   "id": "written-stream",
   "metadata": {},
   "source": [
    "### IV) **Predict**"
   ]
  },
  {
   "cell_type": "code",
   "execution_count": 8,
   "id": "adjusted-acquisition",
   "metadata": {},
   "outputs": [],
   "source": [
    "predictions = model.predict(X)"
   ]
  },
  {
   "cell_type": "markdown",
   "id": "enhanced-adobe",
   "metadata": {},
   "source": [
    "### ---------------------------------"
   ]
  },
  {
   "cell_type": "code",
   "execution_count": 11,
   "id": "seven-reliance",
   "metadata": {},
   "outputs": [
    {
     "data": {
      "text/plain": [
       "[<matplotlib.lines.Line2D at 0xc337aeda58>]"
      ]
     },
     "execution_count": 11,
     "metadata": {},
     "output_type": "execute_result"
    },
    {
     "data": {
      "image/png": "[encoded data removed]",
      "text/plain": [
       "<Figure size 432x288 with 1 Axes>"
      ]
     },
     "metadata": {
      "needs_background": "light"
     },
     "output_type": "display_data"
    }
   ],
   "source": [
    "plt.scatter(X, y)\n",
    "plt.plot(X, predictions, c='r')"
   ]
  },
  {
   "cell_type": "markdown",
   "id": "behind-manual",
   "metadata": {},
   "source": [
    "# 2°) SVR"
   ]
  },
  {
   "cell_type": "code",
   "execution_count": 12,
   "id": "comprehensive-veteran",
   "metadata": {},
   "outputs": [],
   "source": [
    "from sklearn.svm import SVR"
   ]
  },
  {
   "cell_type": "code",
   "execution_count": 16,
   "id": "treated-subsection",
   "metadata": {},
   "outputs": [],
   "source": [
    "np.random.seed(0)\n",
    "\n",
    "# creating 100 examples\n",
    "m = 100 \n",
    "\n",
    "# feattures\n",
    "X = np.linspace(0, 10, m).reshape(m, 1)\n",
    "\n",
    "# target \n",
    "y = X**2 + np.random.randn(m, 1)\n",
    "y = np.ravel(y)"
   ]
  },
  {
   "cell_type": "code",
   "execution_count": 17,
   "id": "native-island",
   "metadata": {},
   "outputs": [],
   "source": [
    "model1 = SVR(C=100)"
   ]
  },
  {
   "cell_type": "code",
   "execution_count": 19,
   "id": "starting-australian",
   "metadata": {},
   "outputs": [
    {
     "data": {
      "text/plain": [
       "SVR(C=100)"
      ]
     },
     "execution_count": 19,
     "metadata": {},
     "output_type": "execute_result"
    }
   ],
   "source": [
    "model1.fit(X,y)"
   ]
  },
  {
   "cell_type": "code",
   "execution_count": 20,
   "id": "expanded-slope",
   "metadata": {},
   "outputs": [
    {
     "data": {
      "text/plain": [
       "0.9989763625652847"
      ]
     },
     "execution_count": 20,
     "metadata": {},
     "output_type": "execute_result"
    }
   ],
   "source": [
    "model1.score(X,y)"
   ]
  },
  {
   "cell_type": "code",
   "execution_count": 21,
   "id": "retained-joining",
   "metadata": {},
   "outputs": [
    {
     "data": {
      "text/plain": [
       "[<matplotlib.lines.Line2D at 0xc339f5a828>]"
      ]
     },
     "execution_count": 21,
     "metadata": {},
     "output_type": "execute_result"
    },
    {
     "data": {
      "image/png": "[encoded data removed]",
      "text/plain": [
       "<Figure size 432x288 with 1 Axes>"
      ]
     },
     "metadata": {
      "needs_background": "light"
     },
     "output_type": "display_data"
    }
   ],
   "source": [
    "plt.scatter(X, y)\n",
    "plt.plot(X, model1.predict(X), c='r')"
   ]
  },
  {
   "cell_type": "markdown",
   "id": "damaged-bradley",
   "metadata": {},
   "source": [
    "# ***Classification***"
   ]
  },
  {
   "cell_type": "code",
   "execution_count": 22,
   "id": "informed-observer",
   "metadata": {},
   "outputs": [],
   "source": [
    "import pandas as pd "
   ]
  },
  {
   "cell_type": "code",
   "execution_count": 23,
   "id": "selected-disabled",
   "metadata": {},
   "outputs": [],
   "source": [
    "titanic = pd.read_excel('titanic3.xls')"
   ]
  },
  {
   "cell_type": "code",
   "execution_count": 24,
   "id": "judicial-carry",
   "metadata": {},
   "outputs": [
    {
     "data": {
      "text/html": [
       "<div>\n",
       "<style scoped>\n",
       "    .dataframe tbody tr th:only-of-type {\n",
       "        vertical-align: middle;\n",
       "    }\n",
       "\n",
       "    .dataframe tbody tr th {\n",
       "        vertical-align: top;\n",
       "    }\n",
       "\n",
       "    .dataframe thead th {\n",
       "        text-align: right;\n",
       "    }\n",
       "</style>\n",
       "<table border=\"1\" class=\"dataframe\">\n",
       "  <thead>\n",
       "    <tr style=\"text-align: right;\">\n",
       "      <th></th>\n",
       "      <th>pclass</th>\n",
       "      <th>survived</th>\n",
       "      <th>name</th>\n",
       "      <th>sex</th>\n",
       "      <th>age</th>\n",
       "      <th>sibsp</th>\n",
       "      <th>parch</th>\n",
       "      <th>ticket</th>\n",
       "      <th>fare</th>\n",
       "      <th>cabin</th>\n",
       "      <th>embarked</th>\n",
       "      <th>boat</th>\n",
       "      <th>body</th>\n",
       "      <th>home.dest</th>\n",
       "    </tr>\n",
       "  </thead>\n",
       "  <tbody>\n",
       "    <tr>\n",
       "      <th>0</th>\n",
       "      <td>1</td>\n",
       "      <td>1</td>\n",
       "      <td>Allen, Miss. Elisabeth Walton</td>\n",
       "      <td>female</td>\n",
       "      <td>29.0000</td>\n",
       "      <td>0</td>\n",
       "      <td>0</td>\n",
       "      <td>24160</td>\n",
       "      <td>211.3375</td>\n",
       "      <td>B5</td>\n",
       "      <td>S</td>\n",
       "      <td>2</td>\n",
       "      <td>NaN</td>\n",
       "      <td>St Louis, MO</td>\n",
       "    </tr>\n",
       "    <tr>\n",
       "      <th>1</th>\n",
       "      <td>1</td>\n",
       "      <td>1</td>\n",
       "      <td>Allison, Master. Hudson Trevor</td>\n",
       "      <td>male</td>\n",
       "      <td>0.9167</td>\n",
       "      <td>1</td>\n",
       "      <td>2</td>\n",
       "      <td>113781</td>\n",
       "      <td>151.5500</td>\n",
       "      <td>C22 C26</td>\n",
       "      <td>S</td>\n",
       "      <td>11</td>\n",
       "      <td>NaN</td>\n",
       "      <td>Montreal, PQ / Chesterville, ON</td>\n",
       "    </tr>\n",
       "  </tbody>\n",
       "</table>\n",
       "</div>"
      ],
      "text/plain": [
       "   pclass  survived                            name     sex      age  sibsp  \\\n",
       "0       1         1   Allen, Miss. Elisabeth Walton  female  29.0000      0   \n",
       "1       1         1  Allison, Master. Hudson Trevor    male   0.9167      1   \n",
       "\n",
       "   parch  ticket      fare    cabin embarked boat  body  \\\n",
       "0      0   24160  211.3375       B5        S    2   NaN   \n",
       "1      2  113781  151.5500  C22 C26        S   11   NaN   \n",
       "\n",
       "                         home.dest  \n",
       "0                     St Louis, MO  \n",
       "1  Montreal, PQ / Chesterville, ON  "
      ]
     },
     "execution_count": 24,
     "metadata": {},
     "output_type": "execute_result"
    }
   ],
   "source": [
    "titanic.head(2)"
   ]
  },
  {
   "cell_type": "markdown",
   "id": "mobile-position",
   "metadata": {},
   "source": [
    "## filter"
   ]
  },
  {
   "cell_type": "code",
   "execution_count": 25,
   "id": "contemporary-constraint",
   "metadata": {},
   "outputs": [],
   "source": [
    "titanic = titanic[['survived', 'pclass', 'sex', 'age']]"
   ]
  },
  {
   "cell_type": "code",
   "execution_count": 26,
   "id": "stone-beauty",
   "metadata": {},
   "outputs": [],
   "source": [
    "titanic.dropna(axis=0, inplace=True)"
   ]
  },
  {
   "cell_type": "markdown",
   "id": "detected-nomination",
   "metadata": {},
   "source": [
    "## replace strings by values"
   ]
  },
  {
   "cell_type": "code",
   "execution_count": 27,
   "id": "irish-banks",
   "metadata": {},
   "outputs": [],
   "source": [
    "titanic['sex'].replace(['male', 'female'], [0, 1], inplace=True)"
   ]
  },
  {
   "cell_type": "code",
   "execution_count": 28,
   "id": "enormous-winter",
   "metadata": {},
   "outputs": [
    {
     "data": {
      "text/html": [
       "<div>\n",
       "<style scoped>\n",
       "    .dataframe tbody tr th:only-of-type {\n",
       "        vertical-align: middle;\n",
       "    }\n",
       "\n",
       "    .dataframe tbody tr th {\n",
       "        vertical-align: top;\n",
       "    }\n",
       "\n",
       "    .dataframe thead th {\n",
       "        text-align: right;\n",
       "    }\n",
       "</style>\n",
       "<table border=\"1\" class=\"dataframe\">\n",
       "  <thead>\n",
       "    <tr style=\"text-align: right;\">\n",
       "      <th></th>\n",
       "      <th>survived</th>\n",
       "      <th>pclass</th>\n",
       "      <th>sex</th>\n",
       "      <th>age</th>\n",
       "    </tr>\n",
       "  </thead>\n",
       "  <tbody>\n",
       "    <tr>\n",
       "      <th>0</th>\n",
       "      <td>1</td>\n",
       "      <td>1</td>\n",
       "      <td>1</td>\n",
       "      <td>29.0000</td>\n",
       "    </tr>\n",
       "    <tr>\n",
       "      <th>1</th>\n",
       "      <td>1</td>\n",
       "      <td>1</td>\n",
       "      <td>0</td>\n",
       "      <td>0.9167</td>\n",
       "    </tr>\n",
       "    <tr>\n",
       "      <th>2</th>\n",
       "      <td>0</td>\n",
       "      <td>1</td>\n",
       "      <td>1</td>\n",
       "      <td>2.0000</td>\n",
       "    </tr>\n",
       "    <tr>\n",
       "      <th>3</th>\n",
       "      <td>0</td>\n",
       "      <td>1</td>\n",
       "      <td>0</td>\n",
       "      <td>30.0000</td>\n",
       "    </tr>\n",
       "    <tr>\n",
       "      <th>4</th>\n",
       "      <td>0</td>\n",
       "      <td>1</td>\n",
       "      <td>1</td>\n",
       "      <td>25.0000</td>\n",
       "    </tr>\n",
       "  </tbody>\n",
       "</table>\n",
       "</div>"
      ],
      "text/plain": [
       "   survived  pclass  sex      age\n",
       "0         1       1    1  29.0000\n",
       "1         1       1    0   0.9167\n",
       "2         0       1    1   2.0000\n",
       "3         0       1    0  30.0000\n",
       "4         0       1    1  25.0000"
      ]
     },
     "execution_count": 28,
     "metadata": {},
     "output_type": "execute_result"
    }
   ],
   "source": [
    "titanic.head()"
   ]
  },
  {
   "cell_type": "markdown",
   "id": "august-cross",
   "metadata": {},
   "source": [
    "## import model"
   ]
  },
  {
   "cell_type": "code",
   "execution_count": 29,
   "id": "civilian-phrase",
   "metadata": {},
   "outputs": [],
   "source": [
    "from sklearn.neighbors import KNeighborsClassifier"
   ]
  },
  {
   "cell_type": "markdown",
   "id": "specified-outreach",
   "metadata": {},
   "source": [
    "### Initialize model "
   ]
  },
  {
   "cell_type": "code",
   "execution_count": 30,
   "id": "seeing-devices",
   "metadata": {},
   "outputs": [],
   "source": [
    "model = KNeighborsClassifier()"
   ]
  },
  {
   "cell_type": "markdown",
   "id": "promising-designer",
   "metadata": {},
   "source": [
    "#### prepare data"
   ]
  },
  {
   "cell_type": "code",
   "execution_count": 31,
   "id": "aboriginal-metropolitan",
   "metadata": {},
   "outputs": [],
   "source": [
    "y = titanic['survived']\n",
    "X = titanic.drop('survived', axis=1)"
   ]
  },
  {
   "cell_type": "markdown",
   "id": "sudden-piece",
   "metadata": {},
   "source": [
    "### Train model"
   ]
  },
  {
   "cell_type": "code",
   "execution_count": 32,
   "id": "exceptional-alloy",
   "metadata": {},
   "outputs": [
    {
     "data": {
      "text/plain": [
       "KNeighborsClassifier()"
      ]
     },
     "execution_count": 32,
     "metadata": {},
     "output_type": "execute_result"
    }
   ],
   "source": [
    "model.fit(X, y)"
   ]
  },
  {
   "cell_type": "code",
   "execution_count": 33,
   "id": "japanese-tribe",
   "metadata": {},
   "outputs": [
    {
     "data": {
      "text/plain": [
       "0.8279158699808795"
      ]
     },
     "execution_count": 33,
     "metadata": {},
     "output_type": "execute_result"
    }
   ],
   "source": [
    "model.score(X,y)"
   ]
  },
  {
   "cell_type": "markdown",
   "id": "authorized-victim",
   "metadata": {},
   "source": [
    "## function"
   ]
  },
  {
   "cell_type": "code",
   "execution_count": 34,
   "id": "extreme-bahamas",
   "metadata": {},
   "outputs": [],
   "source": [
    "def survivre(model, pclass=1, sex=0, age=5):\n",
    "    x = np.array([pclass, sex, age]).reshape(1, 3)\n",
    "    print(model.predict(x))\n",
    "    print(model.predict_proba(x))"
   ]
  },
  {
   "cell_type": "code",
   "execution_count": 35,
   "id": "brilliant-warning",
   "metadata": {},
   "outputs": [
    {
     "name": "stdout",
     "output_type": "stream",
     "text": [
      "[1]\n",
      "[[0. 1.]]\n"
     ]
    }
   ],
   "source": [
    "survivre(model)\n"
   ]
  },
  {
   "cell_type": "markdown",
   "id": "prescription-dress",
   "metadata": {},
   "source": [
    "# **Exercice**"
   ]
  },
  {
   "cell_type": "code",
   "execution_count": 36,
   "id": "soviet-antenna",
   "metadata": {},
   "outputs": [],
   "source": [
    "bestScore = []\n",
    "\n",
    "for i in range(1,10):\n",
    "    model = KNeighborsClassifier(n_neighbors=i)\n",
    "    model.fit(X,y)\n",
    "    score = model.score(X,y)\n",
    "    bestScore.append(score)\n",
    "    if score == np.max(bestScore):\n",
    "        j=i\n"
   ]
  },
  {
   "cell_type": "code",
   "execution_count": 37,
   "id": "composed-wilderness",
   "metadata": {},
   "outputs": [
    {
     "data": {
      "text/plain": [
       "array([1, 1, 0, ..., 0, 0, 0], dtype=int64)"
      ]
     },
     "execution_count": 37,
     "metadata": {},
     "output_type": "execute_result"
    }
   ],
   "source": [
    "model = KNeighborsClassifier(n_neighbors=j)\n",
    "model.fit(X, y)\n",
    "model.score(X,y)\n",
    "model.predict(X)"
   ]
  }
 ],
 "metadata": {
  "kernelspec": {
   "display_name": "Python 3",
   "language": "python",
   "name": "python3"
  },
  "language_info": {
   "codemirror_mode": {
    "name": "ipython",
    "version": 3
   },
   "file_extension": ".py",
   "mimetype": "text/x-python",
   "name": "python",
   "nbconvert_exporter": "python",
   "pygments_lexer": "ipython3",
   "version": "3.7.0"
  }
 },
 "nbformat": 4,
 "nbformat_minor": 5
}
