{
 "cells": [
  {
   "cell_type": "markdown",
   "id": "blank-waterproof",
   "metadata": {},
   "source": [
    "# **Numpy**"
   ]
  },
  {
   "cell_type": "code",
   "execution_count": 1,
   "id": "positive-solid",
   "metadata": {},
   "outputs": [],
   "source": [
    "import numpy as np"
   ]
  },
  {
   "cell_type": "code",
   "execution_count": 3,
   "id": "tracked-madonna",
   "metadata": {},
   "outputs": [
    {
     "data": {
      "text/plain": [
       "array([[12, 15,  0,  3,  3,  7],\n",
       "       [ 9, 19, 18,  4,  6, 12],\n",
       "       [ 1,  6,  7, 14, 17,  5]])"
      ]
     },
     "execution_count": 3,
     "metadata": {},
     "output_type": "execute_result"
    }
   ],
   "source": [
    "np.random.seed(0)\n",
    "A = np.random.randint(0, 20, [3,6])\n",
    "A"
   ]
  },
  {
   "cell_type": "markdown",
   "id": "compressed-boulder",
   "metadata": {},
   "source": [
    "# **ndarray methods**"
   ]
  },
  {
   "cell_type": "code",
   "execution_count": 10,
   "id": "stuffed-steal",
   "metadata": {},
   "outputs": [
    {
     "data": {
      "text/plain": [
       "8.777777777777779"
      ]
     },
     "execution_count": 10,
     "metadata": {},
     "output_type": "execute_result"
    }
   ],
   "source": [
    "# moyenne\n",
    "A.mean()"
   ]
  },
  {
   "cell_type": "code",
   "execution_count": 13,
   "id": "boolean-hydrogen",
   "metadata": {},
   "outputs": [
    {
     "data": {
      "text/plain": [
       "158"
      ]
     },
     "execution_count": 13,
     "metadata": {},
     "output_type": "execute_result"
    }
   ],
   "source": [
    "# somme de tous le tableau\n",
    "A.sum()"
   ]
  },
  {
   "cell_type": "code",
   "execution_count": 14,
   "id": "recreational-credits",
   "metadata": {},
   "outputs": [
    {
     "data": {
      "text/plain": [
       "array([22, 40, 25, 21, 26, 24])"
      ]
     },
     "execution_count": 14,
     "metadata": {},
     "output_type": "execute_result"
    }
   ],
   "source": [
    "# somme verticale\n",
    "A.sum(axis=0)"
   ]
  },
  {
   "cell_type": "code",
   "execution_count": 15,
   "id": "compact-region",
   "metadata": {},
   "outputs": [
    {
     "data": {
      "text/plain": [
       "array([40, 68, 50])"
      ]
     },
     "execution_count": 15,
     "metadata": {},
     "output_type": "execute_result"
    }
   ],
   "source": [
    "# somme horizontale\n",
    "A.sum(axis=1)"
   ]
  },
  {
   "cell_type": "code",
   "execution_count": 16,
   "id": "complex-mississippi",
   "metadata": {},
   "outputs": [
    {
     "data": {
      "text/plain": [
       "array([ 12,  27,  27,  30,  33,  40,  49,  68,  86,  90,  96, 108, 109,\n",
       "       115, 122, 136, 153, 158], dtype=int32)"
      ]
     },
     "execution_count": 16,
     "metadata": {},
     "output_type": "execute_result"
    }
   ],
   "source": [
    "# somme cumulée\n",
    "A.cumsum()"
   ]
  },
  {
   "cell_type": "code",
   "execution_count": 18,
   "id": "cutting-chapel",
   "metadata": {},
   "outputs": [
    {
     "data": {
      "text/plain": [
       "(array([[12, 15,  0,  3,  3,  7],\n",
       "        [ 9, 19, 18,  4,  6, 12],\n",
       "        [ 1,  6,  7, 14, 17,  5]]),\n",
       " array([[12, 15,  0,  3,  3,  7],\n",
       "        [21, 34, 18,  7,  9, 19],\n",
       "        [22, 40, 25, 21, 26, 24]], dtype=int32))"
      ]
     },
     "execution_count": 18,
     "metadata": {},
     "output_type": "execute_result"
    }
   ],
   "source": [
    "# somme cumulée\n",
    "A, A.cumsum(axis=0)"
   ]
  },
  {
   "cell_type": "code",
   "execution_count": 19,
   "id": "mathematical-cross",
   "metadata": {},
   "outputs": [
    {
     "data": {
      "text/plain": [
       "(array([[12, 15,  0,  3,  3,  7],\n",
       "        [ 9, 19, 18,  4,  6, 12],\n",
       "        [ 1,  6,  7, 14, 17,  5]]),\n",
       " array([[12, 27, 27, 30, 33, 40],\n",
       "        [ 9, 28, 46, 50, 56, 68],\n",
       "        [ 1,  7, 14, 28, 45, 50]], dtype=int32))"
      ]
     },
     "execution_count": 19,
     "metadata": {},
     "output_type": "execute_result"
    }
   ],
   "source": [
    "# somme cumulée\n",
    "A, A.cumsum(axis=1)"
   ]
  },
  {
   "cell_type": "code",
   "execution_count": 24,
   "id": "loving-zoning",
   "metadata": {},
   "outputs": [
    {
     "data": {
      "text/plain": [
       "0"
      ]
     },
     "execution_count": 24,
     "metadata": {},
     "output_type": "execute_result"
    }
   ],
   "source": [
    "# min\n",
    "A.min()"
   ]
  },
  {
   "cell_type": "code",
   "execution_count": 25,
   "id": "palestinian-active",
   "metadata": {},
   "outputs": [
    {
     "data": {
      "text/plain": [
       "2"
      ]
     },
     "execution_count": 25,
     "metadata": {},
     "output_type": "execute_result"
    }
   ],
   "source": [
    "# argmin\n",
    "A.argmin()"
   ]
  },
  {
   "cell_type": "code",
   "execution_count": 26,
   "id": "musical-argument",
   "metadata": {},
   "outputs": [
    {
     "data": {
      "text/plain": [
       "19"
      ]
     },
     "execution_count": 26,
     "metadata": {},
     "output_type": "execute_result"
    }
   ],
   "source": [
    "# max \n",
    "A.max()"
   ]
  },
  {
   "cell_type": "code",
   "execution_count": 27,
   "id": "cooked-radar",
   "metadata": {},
   "outputs": [
    {
     "data": {
      "text/plain": [
       "7"
      ]
     },
     "execution_count": 27,
     "metadata": {},
     "output_type": "execute_result"
    }
   ],
   "source": [
    "# argmax\n",
    "A.argmax()"
   ]
  },
  {
   "cell_type": "markdown",
   "id": "exempt-visiting",
   "metadata": {},
   "source": [
    "### *SORT*"
   ]
  },
  {
   "cell_type": "code",
   "execution_count": 42,
   "id": "fleet-rainbow",
   "metadata": {},
   "outputs": [
    {
     "data": {
      "text/plain": [
       "array([[5, 0, 3, 3, 7],\n",
       "       [9, 3, 5, 2, 4]])"
      ]
     },
     "execution_count": 42,
     "metadata": {},
     "output_type": "execute_result"
    }
   ],
   "source": [
    "np.random.seed(0)\n",
    "B = np.random.randint(0, 10, [2, 5])\n",
    "B"
   ]
  },
  {
   "cell_type": "code",
   "execution_count": 44,
   "id": "senior-fireplace",
   "metadata": {},
   "outputs": [
    {
     "data": {
      "text/plain": [
       "(array([[1.48413159e+02, 1.00000000e+00, 2.00855369e+01, 2.00855369e+01,\n",
       "         1.09663316e+03],\n",
       "        [8.10308393e+03, 2.00855369e+01, 1.48413159e+02, 7.38905610e+00,\n",
       "         5.45981500e+01]]),\n",
       " array([[ 0.28366219,  1.        , -0.9899925 , -0.9899925 ,  0.75390225],\n",
       "        [-0.91113026, -0.9899925 ,  0.28366219, -0.41614684, -0.65364362]]),\n",
       " array([[-0.95892427,  0.        ,  0.14112001,  0.14112001,  0.6569866 ],\n",
       "        [ 0.41211849,  0.14112001, -0.95892427,  0.90929743, -0.7568025 ]]))"
      ]
     },
     "execution_count": 44,
     "metadata": {},
     "output_type": "execute_result"
    }
   ],
   "source": [
    "np.exp(B), np.cos(B), np.sin(B)"
   ]
  },
  {
   "cell_type": "markdown",
   "id": "single-whale",
   "metadata": {},
   "source": [
    "## **Statistics** "
   ]
  },
  {
   "cell_type": "code",
   "execution_count": 45,
   "id": "coated-accessory",
   "metadata": {},
   "outputs": [
    {
     "data": {
      "text/plain": [
       "array([[5, 0, 3, 3, 7],\n",
       "       [9, 3, 5, 2, 4]])"
      ]
     },
     "execution_count": 45,
     "metadata": {},
     "output_type": "execute_result"
    }
   ],
   "source": [
    "B"
   ]
  },
  {
   "cell_type": "code",
   "execution_count": 46,
   "id": "forbidden-walter",
   "metadata": {},
   "outputs": [
    {
     "data": {
      "text/plain": [
       "5.890000000000001"
      ]
     },
     "execution_count": 46,
     "metadata": {},
     "output_type": "execute_result"
    }
   ],
   "source": [
    "B.var()"
   ]
  },
  {
   "cell_type": "code",
   "execution_count": 48,
   "id": "provincial-senegal",
   "metadata": {},
   "outputs": [
    {
     "data": {
      "text/plain": [
       "2.4269322199023193"
      ]
     },
     "execution_count": 48,
     "metadata": {},
     "output_type": "execute_result"
    }
   ],
   "source": [
    "# equarttype\n",
    "\n",
    "B.std()"
   ]
  },
  {
   "cell_type": "code",
   "execution_count": 51,
   "id": "green-market",
   "metadata": {},
   "outputs": [
    {
     "data": {
      "text/plain": [
       "array([[1.        , 0.39741307],\n",
       "       [0.39741307, 1.        ]])"
      ]
     },
     "execution_count": 51,
     "metadata": {},
     "output_type": "execute_result"
    }
   ],
   "source": [
    "np.corrcoef(B)"
   ]
  },
  {
   "cell_type": "markdown",
   "id": "retained-concern",
   "metadata": {},
   "source": [
    "### 'Nombre de répétition d'un element' "
   ]
  },
  {
   "cell_type": "code",
   "execution_count": 54,
   "id": "dietary-overview",
   "metadata": {},
   "outputs": [
    {
     "data": {
      "text/plain": [
       "(array([[5, 0, 3, 3, 7],\n",
       "        [9, 3, 5, 2, 4]]),\n",
       " (array([0, 2, 3, 4, 5, 7, 9]), array([1, 1, 3, 1, 2, 1, 1], dtype=int64)))"
      ]
     },
     "execution_count": 54,
     "metadata": {},
     "output_type": "execute_result"
    }
   ],
   "source": [
    "# Nomnbre de répétitions \n",
    "B, np.unique(B, return_counts=True)"
   ]
  },
  {
   "cell_type": "markdown",
   "id": "prepared-florida",
   "metadata": {},
   "source": [
    "#### pratique "
   ]
  },
  {
   "cell_type": "code",
   "execution_count": 56,
   "id": "speaking-pontiac",
   "metadata": {},
   "outputs": [
    {
     "data": {
      "text/plain": [
       "(array([0, 2, 3, 4, 5, 7, 9]), array([1, 1, 3, 1, 2, 1, 1], dtype=int64))"
      ]
     },
     "execution_count": 56,
     "metadata": {},
     "output_type": "execute_result"
    }
   ],
   "source": [
    "values, counts = np.unique(B, return_counts=True)\n",
    "values, counts"
   ]
  },
  {
   "cell_type": "code",
   "execution_count": 57,
   "id": "descending-voltage",
   "metadata": {},
   "outputs": [
    {
     "data": {
      "text/plain": [
       "array([0, 1, 3, 5, 6, 4, 2], dtype=int64)"
      ]
     },
     "execution_count": 57,
     "metadata": {},
     "output_type": "execute_result"
    }
   ],
   "source": [
    "counts.argsort()"
   ]
  },
  {
   "cell_type": "markdown",
   "id": "recent-remainder",
   "metadata": {},
   "source": [
    "### trier values"
   ]
  },
  {
   "cell_type": "code",
   "execution_count": 58,
   "id": "geographic-refund",
   "metadata": {},
   "outputs": [
    {
     "data": {
      "text/plain": [
       "array([0, 2, 4, 7, 9, 5, 3])"
      ]
     },
     "execution_count": 58,
     "metadata": {},
     "output_type": "execute_result"
    }
   ],
   "source": [
    "values[counts.argsort()]"
   ]
  },
  {
   "cell_type": "code",
   "execution_count": 61,
   "id": "dense-albuquerque",
   "metadata": {},
   "outputs": [
    {
     "name": "stdout",
     "output_type": "stream",
     "text": [
      "element 0 apparait 1 fois\n",
      "element 2 apparait 1 fois\n",
      "element 4 apparait 1 fois\n",
      "element 7 apparait 1 fois\n",
      "element 9 apparait 1 fois\n",
      "element 5 apparait 2 fois\n",
      "element 3 apparait 3 fois\n"
     ]
    }
   ],
   "source": [
    "for i, j in zip(values[counts.argsort()], counts[counts.argsort()]):\n",
    "    print(f'element {i} apparait {j} fois')"
   ]
  },
  {
   "cell_type": "markdown",
   "id": "promising-aviation",
   "metadata": {},
   "source": [
    "## Manque de données"
   ]
  },
  {
   "cell_type": "code",
   "execution_count": 62,
   "id": "posted-notion",
   "metadata": {},
   "outputs": [
    {
     "data": {
      "text/plain": [
       "array([[-0.29139398, -0.13309028,         nan, -1.76165167],\n",
       "       [-0.08767307,  1.36687937,  1.1253141 ,         nan],\n",
       "       [ 1.2206081 , -1.33949555,  0.42837337, -0.12346315],\n",
       "       [ 1.41437719, -0.12405066,  2.00815709,  0.22988654]])"
      ]
     },
     "execution_count": 62,
     "metadata": {},
     "output_type": "execute_result"
    }
   ],
   "source": [
    "A = np.random.randn(4, 4)\n",
    "A[0, 2] = np.nan\n",
    "A[1, 3] = np.nan\n",
    "A"
   ]
  },
  {
   "cell_type": "code",
   "execution_count": 63,
   "id": "excessive-stranger",
   "metadata": {},
   "outputs": [
    {
     "data": {
      "text/plain": [
       "nan"
      ]
     },
     "execution_count": 63,
     "metadata": {},
     "output_type": "execute_result"
    }
   ],
   "source": [
    "A.mean()"
   ]
  },
  {
   "cell_type": "code",
   "execution_count": 64,
   "id": "fifty-triumph",
   "metadata": {},
   "outputs": [
    {
     "data": {
      "text/plain": [
       "0.28091267085459537"
      ]
     },
     "execution_count": 64,
     "metadata": {},
     "output_type": "execute_result"
    }
   ],
   "source": [
    "np.nanmean(A)"
   ]
  },
  {
   "cell_type": "markdown",
   "id": "together-going",
   "metadata": {},
   "source": [
    "## compter le nombre de nan"
   ]
  },
  {
   "cell_type": "code",
   "execution_count": 65,
   "id": "noted-machinery",
   "metadata": {},
   "outputs": [
    {
     "data": {
      "text/plain": [
       "2"
      ]
     },
     "execution_count": 65,
     "metadata": {},
     "output_type": "execute_result"
    }
   ],
   "source": [
    "np.isnan(A).sum()"
   ]
  },
  {
   "cell_type": "code",
   "execution_count": 66,
   "id": "accomplished-chamber",
   "metadata": {},
   "outputs": [
    {
     "data": {
      "text/plain": [
       "array([[False, False,  True, False],\n",
       "       [False, False, False,  True],\n",
       "       [False, False, False, False],\n",
       "       [False, False, False, False]])"
      ]
     },
     "execution_count": 66,
     "metadata": {},
     "output_type": "execute_result"
    }
   ],
   "source": [
    "np.isnan(A)"
   ]
  },
  {
   "cell_type": "code",
   "execution_count": 67,
   "id": "pressing-quality",
   "metadata": {},
   "outputs": [
    {
     "data": {
      "text/plain": [
       "array([[-0.29139398, -0.13309028,  0.        , -1.76165167],\n",
       "       [-0.08767307,  1.36687937,  1.1253141 ,  0.        ],\n",
       "       [ 1.2206081 , -1.33949555,  0.42837337, -0.12346315],\n",
       "       [ 1.41437719, -0.12405066,  2.00815709,  0.22988654]])"
      ]
     },
     "execution_count": 67,
     "metadata": {},
     "output_type": "execute_result"
    }
   ],
   "source": [
    "A[np.isnan(A)] = 0\n",
    "A"
   ]
  },
  {
   "cell_type": "markdown",
   "id": "magnetic-falls",
   "metadata": {},
   "source": [
    "# Algebre linéaire"
   ]
  },
  {
   "cell_type": "code",
   "execution_count": 68,
   "id": "offensive-onion",
   "metadata": {},
   "outputs": [
    {
     "data": {
      "text/plain": [
       "(array([[1., 1., 1.],\n",
       "        [1., 1., 1.]]),\n",
       " array([[1., 1.],\n",
       "        [1., 1.],\n",
       "        [1., 1.]]))"
      ]
     },
     "execution_count": 68,
     "metadata": {},
     "output_type": "execute_result"
    }
   ],
   "source": [
    "X = np.ones((2, 3))\n",
    "Y = np.ones((3, 2))\n",
    "X, Y"
   ]
  },
  {
   "cell_type": "markdown",
   "id": "other-celtic",
   "metadata": {},
   "source": [
    "##### transposée"
   ]
  },
  {
   "cell_type": "code",
   "execution_count": 69,
   "id": "north-interview",
   "metadata": {},
   "outputs": [
    {
     "data": {
      "text/plain": [
       "array([[1., 1.],\n",
       "       [1., 1.],\n",
       "       [1., 1.]])"
      ]
     },
     "execution_count": 69,
     "metadata": {},
     "output_type": "execute_result"
    }
   ],
   "source": [
    "X.T"
   ]
  },
  {
   "cell_type": "markdown",
   "id": "graphic-spyware",
   "metadata": {},
   "source": [
    "##### mul matrices"
   ]
  },
  {
   "cell_type": "code",
   "execution_count": 70,
   "id": "first-network",
   "metadata": {},
   "outputs": [
    {
     "data": {
      "text/plain": [
       "array([[3., 3.],\n",
       "       [3., 3.]])"
      ]
     },
     "execution_count": 70,
     "metadata": {},
     "output_type": "execute_result"
    }
   ],
   "source": [
    "X.dot(Y)"
   ]
  },
  {
   "cell_type": "code",
   "execution_count": 71,
   "id": "acquired-authentication",
   "metadata": {},
   "outputs": [
    {
     "data": {
      "text/plain": [
       "array([[2., 2., 2.],\n",
       "       [2., 2., 2.],\n",
       "       [2., 2., 2.]])"
      ]
     },
     "execution_count": 71,
     "metadata": {},
     "output_type": "execute_result"
    }
   ],
   "source": [
    "Y.dot(X)"
   ]
  },
  {
   "cell_type": "markdown",
   "id": "boolean-anderson",
   "metadata": {},
   "source": [
    "#### Determinant"
   ]
  },
  {
   "cell_type": "code",
   "execution_count": 75,
   "id": "animal-buyer",
   "metadata": {},
   "outputs": [
    {
     "data": {
      "text/plain": [
       "(array([[2, 4, 2],\n",
       "        [0, 0, 4],\n",
       "        [0, 4, 1]]),\n",
       " -31.999999999999986)"
      ]
     },
     "execution_count": 75,
     "metadata": {},
     "output_type": "execute_result"
    }
   ],
   "source": [
    "AA = np.random.randint(0, 5, [3, 3])\n",
    "AA, np.linalg.det(AA)"
   ]
  },
  {
   "cell_type": "code",
   "execution_count": null,
   "id": "cultural-blank",
   "metadata": {},
   "outputs": [],
   "source": [
    "np.linalg.inv(AA)"
   ]
  },
  {
   "cell_type": "markdown",
   "id": "electrical-economics",
   "metadata": {},
   "source": [
    "### vecteur propore"
   ]
  },
  {
   "cell_type": "code",
   "execution_count": 77,
   "id": "american-brisbane",
   "metadata": {},
   "outputs": [
    {
     "data": {
      "text/plain": [
       "(array([ 2.        , -3.53112887,  4.53112887]),\n",
       " array([[ 1.        ,  0.28985017, -0.85354587],\n",
       "        [ 0.        , -0.71749602, -0.34481085],\n",
       "        [ 0.        ,  0.63339273, -0.3905956 ]]))"
      ]
     },
     "execution_count": 77,
     "metadata": {},
     "output_type": "execute_result"
    }
   ],
   "source": [
    "np.linalg.eig(AA)"
   ]
  },
  {
   "cell_type": "markdown",
   "id": "removable-missile",
   "metadata": {},
   "source": [
    "# Broadcasting"
   ]
  },
  {
   "cell_type": "code",
   "execution_count": 2,
   "id": "brown-remark",
   "metadata": {},
   "outputs": [
    {
     "data": {
      "text/plain": [
       "(array([[5, 0, 3],\n",
       "        [3, 7, 9]]),\n",
       " array([[1., 1., 1.],\n",
       "        [1., 1., 1.]]))"
      ]
     },
     "execution_count": 2,
     "metadata": {},
     "output_type": "execute_result"
    }
   ],
   "source": [
    "np.random.seed(0)\n",
    "A = np.random.randint(0, 10, [2, 3])\n",
    "B = np.ones((2, 3))\n",
    "A, B"
   ]
  },
  {
   "cell_type": "code",
   "execution_count": 3,
   "id": "sudden-raleigh",
   "metadata": {},
   "outputs": [
    {
     "data": {
      "text/plain": [
       "array([[ 6.,  1.,  4.],\n",
       "       [ 4.,  8., 10.]])"
      ]
     },
     "execution_count": 3,
     "metadata": {},
     "output_type": "execute_result"
    }
   ],
   "source": [
    "A + B"
   ]
  },
  {
   "cell_type": "code",
   "execution_count": 4,
   "id": "russian-democracy",
   "metadata": {},
   "outputs": [
    {
     "data": {
      "text/plain": [
       "array([[10,  5,  8],\n",
       "       [ 8, 12, 14]])"
      ]
     },
     "execution_count": 4,
     "metadata": {},
     "output_type": "execute_result"
    }
   ],
   "source": [
    "A + 5"
   ]
  },
  {
   "cell_type": "code",
   "execution_count": null,
   "id": "fancy-sender",
   "metadata": {},
   "outputs": [],
   "source": []
  }
 ],
 "metadata": {
  "kernelspec": {
   "display_name": "Python 3",
   "language": "python",
   "name": "python3"
  },
  "language_info": {
   "codemirror_mode": {
    "name": "ipython",
    "version": 3
   },
   "file_extension": ".py",
   "mimetype": "text/x-python",
   "name": "python",
   "nbconvert_exporter": "python",
   "pygments_lexer": "ipython3",
   "version": "3.7.0"
  }
 },
 "nbformat": 4,
 "nbformat_minor": 5
}
